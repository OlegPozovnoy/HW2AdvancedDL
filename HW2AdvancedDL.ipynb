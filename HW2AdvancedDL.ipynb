{
  "nbformat": 4,
  "nbformat_minor": 0,
  "metadata": {
    "colab": {
      "name": "HW2AdvancedDL.ipynb",
      "provenance": [],
      "collapsed_sections": [],
      "include_colab_link": true
    },
    "kernelspec": {
      "display_name": "Python 3",
      "language": "python",
      "name": "python3"
    },
    "language_info": {
      "codemirror_mode": {
        "name": "ipython",
        "version": 3
      },
      "file_extension": ".py",
      "mimetype": "text/x-python",
      "name": "python",
      "nbconvert_exporter": "python",
      "pygments_lexer": "ipython3",
      "version": "3.8.3"
    }
  },
  "cells": [
    {
      "cell_type": "markdown",
      "metadata": {
        "id": "view-in-github",
        "colab_type": "text"
      },
      "source": [
        "<a href=\"https://colab.research.google.com/github/OlegPozovnoy/HW2AdvancedDL/blob/main/HW2AdvancedDL.ipynb\" target=\"_parent\"><img src=\"https://colab.research.google.com/assets/colab-badge.svg\" alt=\"Open In Colab\"/></a>"
      ]
    },
    {
      "cell_type": "code",
      "metadata": {
        "id": "1WPjvfXAtedr",
        "outputId": "883c0e79-d2bb-4ecc-8d5d-f8fd0660bc64",
        "colab": {
          "base_uri": "https://localhost:8080/"
        }
      },
      "source": [
        "import gym\n",
        "## ура наконец доделал\n",
        "import matplotlib as mpl\n",
        "import matplotlib.pyplot as plt\n",
        "import seaborn as sns\n",
        "import json\n",
        "import math\n",
        "import random\n",
        "import numpy as np\n",
        "import scipy as sp\n",
        "import scipy.stats as st\n",
        "import scipy.integrate as integrate\n",
        "from scipy.stats import multivariate_normal\n",
        "from sklearn import linear_model\n",
        "from sklearn.utils.testing import ignore_warnings\n",
        "from sklearn.exceptions import ConvergenceWarning\n",
        "import statsmodels.api as sm\n",
        "from matplotlib.colors import LogNorm\n",
        "import pickle\n",
        "\n",
        "from joblib import Parallel, delayed\n",
        "import multiprocessing\n",
        "from collections import namedtuple\n",
        "from itertools import count\n",
        "\n",
        "import cProfile\n",
        "from datetime import datetime\n",
        "\n",
        "import torch\n",
        "import torch.nn as nn\n",
        "import torch.optim as optim\n",
        "import torch.nn.functional as F\n",
        "import torchvision.transforms as T\n",
        "from torch.autograd import Variable\n",
        "\n",
        "sns.set_style(\"whitegrid\")\n",
        "sns.set_palette(\"colorblind\")\n",
        "palette = sns.color_palette()\n",
        "figsize = (15,8)\n",
        "legend_fontsize = 16\n",
        "\n",
        "from matplotlib import rc\n"
      ],
      "execution_count": 1,
      "outputs": [
        {
          "output_type": "stream",
          "text": [
            "/usr/local/lib/python3.6/dist-packages/sklearn/utils/deprecation.py:144: FutureWarning: The sklearn.utils.testing module is  deprecated in version 0.22 and will be removed in version 0.24. The corresponding classes / functions should instead be imported from sklearn.utils. Anything that cannot be imported from sklearn.utils is now part of the private API.\n",
            "  warnings.warn(message, FutureWarning)\n",
            "/usr/local/lib/python3.6/dist-packages/statsmodels/tools/_testing.py:19: FutureWarning: pandas.util.testing is deprecated. Use the functions in the public API at pandas.testing instead.\n",
            "  import pandas.util.testing as tm\n"
          ],
          "name": "stderr"
        }
      ]
    },
    {
      "cell_type": "code",
      "metadata": {
        "id": "vqJ0MLiftedy"
      },
      "source": [
        "class TicTacToe(gym.Env):\n",
        "    def __init__(self, n_rows, n_cols, n_win):\n",
        "        self.n_rows = n_rows\n",
        "        self.n_cols = n_cols\n",
        "        self.n_win = n_win\n",
        "\n",
        "        self.board = np.zeros((self.n_rows, self.n_cols), dtype=int)\n",
        "        self.gameOver = False\n",
        "        self.boardHash = None\n",
        "        # ход первого игрока\n",
        "        self.curTurn = 1\n",
        "        self.emptySpaces = None\n",
        "        \n",
        "        self.reset()\n",
        "\n",
        "    def getEmptySpaces(self):\n",
        "        if self.emptySpaces is None:\n",
        "            res = np.where(self.board == 0)\n",
        "            self.emptySpaces = np.array([ (i, j) for i,j in zip(res[0], res[1]) ])\n",
        "        return self.emptySpaces\n",
        "\n",
        "    def makeMove(self, player, i, j):\n",
        "        self.board[i, j] = player\n",
        "        self.emptySpaces = None\n",
        "        self.boardHash = None\n",
        "\n",
        "    def getHash(self):\n",
        "        if self.boardHash is None:\n",
        "            self.boardHash = ''.join(['%s' % (x+1) for x in self.board.reshape(self.n_rows * self.n_cols)])\n",
        "        return self.boardHash\n",
        "\n",
        "    # Возвратим лучше вектор\n",
        "    def getVec(self):\n",
        "        if self.boardHash is None:\n",
        "            self.getHash()\n",
        "        return tuple(self.board.reshape(self.n_rows * self.n_cols))\n",
        "\n",
        "    def isTerminal(self):\n",
        "        # проверим, не закончилась ли игра\n",
        "        cur_marks, cur_p = np.where(self.board == self.curTurn), self.curTurn\n",
        "        for i,j in zip(cur_marks[0], cur_marks[1]):\n",
        "#             print((i,j))\n",
        "            win = False\n",
        "            if i <= self.n_rows - self.n_win:\n",
        "                if np.all(self.board[i:i+self.n_win, j] == cur_p):\n",
        "                    win = True\n",
        "            if not win:\n",
        "                if j <= self.n_cols - self.n_win:\n",
        "                    if np.all(self.board[i,j:j+self.n_win] == cur_p):\n",
        "                        win = True\n",
        "            if not win:\n",
        "                if i <= self.n_rows - self.n_win and j <= self.n_cols - self.n_win:\n",
        "                    if np.all(np.array([ self.board[i+k,j+k] == cur_p for k in range(self.n_win) ])):\n",
        "                        win = True\n",
        "            if not win:\n",
        "                if i <= self.n_rows - self.n_win and j >= self.n_win-1:\n",
        "                    if np.all(np.array([ self.board[i+k,j-k] == cur_p for k in range(self.n_win) ])):\n",
        "                        win = True\n",
        "            if win:\n",
        "                self.gameOver = True\n",
        "                return self.curTurn\n",
        "\n",
        "        if len(self.getEmptySpaces()) == 0:\n",
        "            self.gameOver = True\n",
        "            return 0\n",
        "\n",
        "        self.gameOver = False\n",
        "        return None\n",
        "\n",
        "    def printBoard(self):\n",
        "        for i in range(0, self.n_rows):\n",
        "            print('----'*(self.n_cols)+'-')\n",
        "            out = '| '\n",
        "            for j in range(0, self.n_cols):\n",
        "                if self.board[i, j] == 1:\n",
        "                    token = 'x'\n",
        "                if self.board[i, j] == -1:\n",
        "                    token = 'o'\n",
        "                if self.board[i, j] == 0:\n",
        "                    token = ' '\n",
        "                out += token + ' | '\n",
        "            print(out)\n",
        "        print('----'*(self.n_cols)+'-')\n",
        "\n",
        "    def getState(self):\n",
        "        return (self.getHash(), self.getEmptySpaces(), self.curTurn)\n",
        "\n",
        "    def getStateVec(self):\n",
        "        return (self.getVec(), self.getEmptySpaces(), self.curTurn)\n",
        "\n",
        "    def action_from_int(self, action_int):\n",
        "        return ( int(action_int / self.n_cols), int(action_int % self.n_cols))\n",
        "\n",
        "    def int_from_action(self, action):\n",
        "        return action[0] * self.n_cols + action[1]\n",
        "    \n",
        "    def step(self, action):\n",
        "        if self.board[action[0], action[1]] != 0:\n",
        "            return self.getState(), -10, True, {}\n",
        "        self.makeMove(self.curTurn, action[0], action[1])\n",
        "        reward = self.isTerminal()\n",
        "        self.curTurn = -self.curTurn\n",
        "        return self.getState(), 0 if reward is None else reward, reward is not None, {}\n",
        "\n",
        "    def reset(self):\n",
        "        self.board = np.zeros((self.n_rows, self.n_cols), dtype=int)\n",
        "        self.boardHash = None\n",
        "        self.gameOver = False\n",
        "        self.emptySpaces = None\n",
        "        self.curTurn = 1"
      ],
      "execution_count": 2,
      "outputs": []
    },
    {
      "cell_type": "code",
      "metadata": {
        "id": "Z55-hYHited0"
      },
      "source": [
        "def plot_board(env, pi, showtext=True, verbose=True, fontq=20, fontx=60):\n",
        "    '''Рисуем доску с оценками из стратегии pi'''\n",
        "    fig, ax = plt.subplots(1, 1, figsize=(8, 8))\n",
        "    X, Y = np.meshgrid(np.arange(0, env.n_rows), np.arange(0, env.n_rows))\n",
        "    Z = np.zeros((env.n_rows, env.n_cols)) + .01\n",
        "    s, actions = env.getHash(), env.getEmptySpaces()\n",
        "    if pi is not None and s in pi.Q:\n",
        "        for i, a in enumerate(actions):\n",
        "            Z[a[0], a[1]] = pi.Q[s][i]\n",
        "    ax.set_xticks([])\n",
        "    ax.set_yticks([])\n",
        "    surf = ax.imshow(Z, cmap=plt.get_cmap('Accent', 10), vmin=-1, vmax=1)\n",
        "    if showtext:\n",
        "        for i,a in enumerate(actions):\n",
        "            if pi is not None and s in pi.Q:\n",
        "                ax.text( a[1] , a[0] , \"%.3f\" % pi.Q[s][i], fontsize=fontq, horizontalalignment='center', verticalalignment='center', color=\"w\" )\n",
        "#             else:\n",
        "#                 ax.text( a[1] , a[0] , \"???\", fontsize=fontq, horizontalalignment='center', verticalalignment='center', color=\"w\" )\n",
        "    for i in range(env.n_rows):\n",
        "        for j in range(env.n_cols):\n",
        "            if env.board[i, j] == -1:\n",
        "                ax.text(j, i, \"O\", fontsize=fontx, horizontalalignment='center', verticalalignment='center', color=\"w\" )\n",
        "            if env.board[i, j] == 1:\n",
        "                ax.text(j, i, \"X\", fontsize=fontx, horizontalalignment='center', verticalalignment='center', color=\"w\" )\n",
        "    cbar = plt.colorbar(surf, ticks=[0, 1])\n",
        "    ax.grid(False)\n",
        "    plt.show()\n",
        "\n",
        "def get_and_print_move(env, pi, s, actions, random=False, verbose=True, fontq=20, fontx=60):\n",
        "    '''Делаем ход, рисуем доску'''\n",
        "    #plot_board(env, pi, fontq=fontq, fontx=fontx)\n",
        "    if verbose and (pi is not None):\n",
        "        if s in pi.Q:\n",
        "            for i,a in enumerate(actions):\n",
        "                print(i, a, pi.Q[s][i])\n",
        "        else:\n",
        "            print(\"Стратегия не знает, что делать...\")\n",
        "    if random:\n",
        "        return np.random.randint(len(actions))\n",
        "    else:\n",
        "        return pi.getActionGreedy(s, len(actions))"
      ],
      "execution_count": 3,
      "outputs": []
    },
    {
      "cell_type": "code",
      "metadata": {
        "id": "E7clgZJZted1"
      },
      "source": [
        "def plot_test_game(env, pi1, pi2, random_crosses=False, random_naughts=True, verbose=True, fontq=20, fontx=60):\n",
        "    '''Играем тестовую партию между стратегиями или со случайными ходами, рисуем ход игры'''\n",
        "    done = False\n",
        "    env.reset()\n",
        "    while not done:\n",
        "        s, actions = env.getHash(), env.getEmptySpaces()\n",
        "        if env.curTurn == 1:\n",
        "            a = get_and_print_move(env, pi1, s, actions, random=random_crosses, verbose=verbose, fontq=fontq, fontx=fontx)\n",
        "        else:\n",
        "            a = get_and_print_move(env, pi2, s, actions, random=random_naughts, verbose=verbose, fontq=fontq, fontx=fontx)\n",
        "        observation, reward, done, info = env.step(actions[a])\n",
        "        if reward == 1:\n",
        "            print(\"Крестики выиграли!\")\n",
        "            plot_board(env, None, showtext=False, fontq=fontq, fontx=fontx)\n",
        "        if reward == -1:\n",
        "            print(\"Нолики выиграли!\")\n",
        "            plot_board(env, None, showtext=False, fontq=fontq, fontx=fontx)"
      ],
      "execution_count": 4,
      "outputs": []
    },
    {
      "cell_type": "code",
      "metadata": {
        "colab": {
          "base_uri": "https://localhost:8080/",
          "height": 487
        },
        "id": "7yyy9VMZted1",
        "outputId": "6d956f89-6de4-4200-f846-02decb0c3058"
      },
      "source": [
        "env = TicTacToe(n_rows=5, n_cols=5, n_win=3)\n",
        "plot_test_game(env, None, None, random_crosses=True, random_naughts=True, verbose=True, fontx=20)"
      ],
      "execution_count": 5,
      "outputs": [
        {
          "output_type": "stream",
          "text": [
            "Нолики выиграли!\n"
          ],
          "name": "stdout"
        },
        {
          "output_type": "display_data",
          "data": {
            "image/png": "[encoded data removed]",
            "text/plain": [
              "<Figure size 576x576 with 2 Axes>"
            ]
          },
          "metadata": {
            "tags": [],
            "needs_background": "light"
          }
        }
      ]
    },
    {
      "cell_type": "markdown",
      "metadata": {
        "id": "98zz_EyYted4"
      },
      "source": [
        "## Реализуйте обычное (табличное) Q-обучение. Обучите стратегии крестиков и ноликов для доски 3х3."
      ]
    },
    {
      "cell_type": "code",
      "metadata": {
        "id": "RNp_pcv7ted5"
      },
      "source": [
        "np.random.seed(123)\n",
        "\n",
        "class TickToeStrategy():\n",
        "    def __init__(self, lr):\n",
        "        self.Q = {}\n",
        "        self.counter = {}\n",
        "        self.lr = lr\n",
        "\n",
        "    def updateQ(self, state, next_state, action, actions_num, reward, done):\n",
        "        if state not in self.Q: \n",
        "            self.Q[state] = np.zeros(actions_num)\n",
        "            self.counter[state] = np.zeros(actions_num)\n",
        "            \n",
        "        self.counter[state][action] += 1\n",
        "        \n",
        "        if not done and next_state in self.Q:\n",
        "            nextQ = np.max(self.Q[next_state]) \n",
        "        else:\n",
        "            nextQ = 0\n",
        "        \n",
        "        self.Q[state][action] += self.lr * (reward + nextQ - self.Q[state][action])\n",
        "    \n",
        "    def get_epsilon_greedy(self, state, actions_num, eps):\n",
        "        if (np.random.random() < eps) or (state not in self.Q):\n",
        "            return np.random.choice(actions_num)\n",
        "        else:\n",
        "            return np.argmax(self.Q[state])        \n",
        "\n",
        "    def get_state(self, state):\n",
        "        if state in self.Q:\n",
        "            return self.Q[state]\n",
        "        return None\n",
        "    \n"
      ],
      "execution_count": null,
      "outputs": []
    },
    {
      "cell_type": "code",
      "metadata": {
        "colab": {
          "base_uri": "https://localhost:8080/",
          "height": 538
        },
        "id": "5TdFlzN9ted6",
        "outputId": "c868c4f6-015e-49a8-af69-fd9e767cab2f"
      },
      "source": [
        "import matplotlib.pyplot as plt\n",
        "import time\n",
        "import pylab as pl\n",
        "from IPython import display\n",
        "\n",
        "\n",
        "def conduct_experiment(strategy, eps = 0.1, num_iterations = 100000, plot = False, debug = False):\n",
        "    print(f'начинаем эксперимент, lr = {strategy.lr} epsilon = {eps} num_iter = {num_iterations}')\n",
        "    avg_rewards = []\n",
        "\n",
        "    for _ in range(num_iterations):\n",
        "        state = env.reset()    \n",
        "        if debug: print(\"New Game\")\n",
        "        done = False\n",
        "        \n",
        "        while not done:\n",
        "            state, actions = env.getVec(), env.getEmptySpaces()\n",
        "            act_num = strategy.get_epsilon_greedy(state, len(actions), eps)\n",
        "\n",
        "            if debug: print(\"state\", state)\n",
        "            if debug: print(\"action\", actions[act_num])\n",
        "            # делаем свой ход\n",
        "            rewardWhite, rewardBlack = 0,0\n",
        "            observation, rewardWhite, done, _ = env.step(actions[act_num])\n",
        "            # делаем случайный ход соперника\n",
        "            if not done:\n",
        "                actions_next = env.getEmptySpaces()\n",
        "                opp_move = np.random.randint(len(actions_next))\n",
        "                observation, rewardBlack, done, _ = env.step(actions_next[opp_move])\n",
        "\n",
        "            next_state = env.getVec()\n",
        "            reward = rewardBlack + rewardWhite\n",
        "\n",
        "            if debug: print(\"next_state\", env.getVec(), rewardWhite + rewardBlack, done, strategy.get_state(next_state))\n",
        "            if debug: print(\"old value\", strategy.get_state(state), reward, np.max(strategy.get_state(state)))            \n",
        "\n",
        "\n",
        "            strategy.updateQ(state, next_state, act_num,  len(actions), reward, done)\n",
        "\n",
        "            if debug: print(\"new value\", strategy.get_state(next_state))\n",
        "\n",
        "            state = next_state\n",
        "            if done:\n",
        "                if len(avg_rewards) == 0:\n",
        "                    avg_rewards.append(reward)\n",
        "                else:\n",
        "                    avg_rewards.append((avg_rewards[-1] * len(avg_rewards) + reward)/(len(avg_rewards)+1))\n",
        "\n",
        "        if len(avg_rewards)%10000 == 0 and plot:\n",
        "            pl.plot(avg_rewards)\n",
        "            pl.xlim(10000, num_iterations)\n",
        "            pl.ylim(0,1)\n",
        "            display.clear_output(wait=True)\n",
        "            display.display(pl.gcf())\n",
        "    print(f'last_avg_reward {round(np.mean(avg_rewards[-10000:]),3)}')\n",
        "    return avg_rewards, strategy.counter, strategy.Q\n",
        " \n",
        "    \n",
        "strategy = TickToeStrategy(0.01)  \n",
        "env = TicTacToe(n_rows=3, n_cols=3, n_win=3)\n",
        "avg_rewards, states_counter, q_values = conduct_experiment(strategy, eps = 0.1, num_iterations = 100000, debug = False, plot = True)"
      ],
      "execution_count": null,
      "outputs": [
        {
          "output_type": "display_data",
          "data": {
            "image/png": "[encoded data removed]",
            "text/plain": [
              "<Figure size 432x288 with 1 Axes>"
            ]
          },
          "metadata": {
            "tags": []
          }
        },
        {
          "output_type": "stream",
          "text": [
            "last_avg_reward 0.875\n"
          ],
          "name": "stdout"
        },
        {
          "output_type": "display_data",
          "data": {
            "image/png": "[encoded data removed]",
            "text/plain": [
              "<Figure size 432x288 with 1 Axes>"
            ]
          },
          "metadata": {
            "tags": []
          }
        }
      ]
    },
    {
      "cell_type": "code",
      "metadata": {
        "colab": {
          "base_uri": "https://localhost:8080/"
        },
        "id": "FL72J5fwted7",
        "outputId": "eea7b8f9-6eb9-43bc-e384-48db8ecef6a3"
      },
      "source": [
        "#print(q_values)\n",
        "#print(states_counter)"
      ],
      "execution_count": null,
      "outputs": [
        {
          "output_type": "stream",
          "text": [
            "IOPub data rate exceeded.\n",
            "The notebook server will temporarily stop sending output\n",
            "to the client in order to avoid crashing it.\n",
            "To change this limit, set the config variable\n",
            "`--NotebookApp.iopub_data_rate_limit`.\n",
            "\n",
            "Current values:\n",
            "NotebookApp.iopub_data_rate_limit=1000000.0 (bytes/sec)\n",
            "NotebookApp.rate_limit_window=3.0 (secs)\n",
            "\n"
          ],
          "name": "stderr"
        }
      ]
    },
    {
      "cell_type": "code",
      "metadata": {
        "colab": {
          "base_uri": "https://localhost:8080/",
          "height": 538
        },
        "id": "zl9Cf1Woted8",
        "outputId": "039d35fe-284e-4032-d7d5-310c0564117f"
      },
      "source": [
        "strategy = TickToeStrategy(0.01)  \n",
        "env = TicTacToe(n_rows=4, n_cols=4, n_win=3)\n",
        "avg_rewards, states_counter, q_values = conduct_experiment(strategy, eps = 0.1, num_iterations = 100000, debug = False, plot = True)"
      ],
      "execution_count": null,
      "outputs": [
        {
          "output_type": "display_data",
          "data": {
            "image/png": "[encoded data removed]",
            "text/plain": [
              "<Figure size 432x288 with 1 Axes>"
            ]
          },
          "metadata": {
            "tags": []
          }
        },
        {
          "output_type": "stream",
          "text": [
            "last_avg_reward 0.792\n"
          ],
          "name": "stdout"
        },
        {
          "output_type": "display_data",
          "data": {
            "image/png": "[encoded data removed]",
            "text/plain": [
              "<Figure size 432x288 with 1 Axes>"
            ]
          },
          "metadata": {
            "tags": []
          }
        }
      ]
    },
    {
      "cell_type": "code",
      "metadata": {
        "colab": {
          "base_uri": "https://localhost:8080/"
        },
        "id": "8ZBVaJLcted8",
        "outputId": "37e5918a-3956-476a-f6de-f261e1c45e21"
      },
      "source": [
        "#print(\"Q\", q_values)\n",
        "#print(\"States\", states_counter)"
      ],
      "execution_count": null,
      "outputs": [
        {
          "output_type": "stream",
          "text": [
            "Q "
          ],
          "name": "stdout"
        },
        {
          "output_type": "stream",
          "text": [
            "IOPub data rate exceeded.\n",
            "The notebook server will temporarily stop sending output\n",
            "to the client in order to avoid crashing it.\n",
            "To change this limit, set the config variable\n",
            "`--NotebookApp.iopub_data_rate_limit`.\n",
            "\n",
            "Current values:\n",
            "NotebookApp.iopub_data_rate_limit=1000000.0 (bytes/sec)\n",
            "NotebookApp.rate_limit_window=3.0 (secs)\n",
            "\n"
          ],
          "name": "stderr"
        }
      ]
    },
    {
      "cell_type": "code",
      "metadata": {
        "colab": {
          "base_uri": "https://localhost:8080/",
          "height": 538
        },
        "id": "hR3nvUcmted8",
        "outputId": "eeba0783-fa7d-40c3-8350-ab315f5033e8"
      },
      "source": [
        "strategy = TickToeStrategy(0.01)  \n",
        "env = TicTacToe(n_rows=5, n_cols=5, n_win=3)\n",
        "avg_rewards, states_counter, q_values = conduct_experiment(strategy, eps = 0.1, num_iterations = 100000, debug = False, plot = True)"
      ],
      "execution_count": null,
      "outputs": [
        {
          "output_type": "display_data",
          "data": {
            "image/png": "[encoded data removed]",
            "text/plain": [
              "<Figure size 432x288 with 1 Axes>"
            ]
          },
          "metadata": {
            "tags": []
          }
        },
        {
          "output_type": "stream",
          "text": [
            "last_avg_reward 0.689\n"
          ],
          "name": "stdout"
        },
        {
          "output_type": "display_data",
          "data": {
            "image/png": "[encoded data removed]",
            "text/plain": [
              "<Figure size 432x288 with 1 Axes>"
            ]
          },
          "metadata": {
            "tags": []
          }
        }
      ]
    },
    {
      "cell_type": "code",
      "metadata": {
        "colab": {
          "base_uri": "https://localhost:8080/"
        },
        "id": "QKuSl15kted9",
        "outputId": "eaecb609-1c52-4573-c70d-324258838f47"
      },
      "source": [
        "print(\"Q\", q_values)\n",
        "print(\"States\", states_counter)"
      ],
      "execution_count": null,
      "outputs": [
        {
          "output_type": "stream",
          "text": [
            "Q "
          ],
          "name": "stdout"
        },
        {
          "output_type": "stream",
          "text": [
            "IOPub data rate exceeded.\n",
            "The notebook server will temporarily stop sending output\n",
            "to the client in order to avoid crashing it.\n",
            "To change this limit, set the config variable\n",
            "`--NotebookApp.iopub_data_rate_limit`.\n",
            "\n",
            "Current values:\n",
            "NotebookApp.iopub_data_rate_limit=1000000.0 (bytes/sec)\n",
            "NotebookApp.rate_limit_window=3.0 (secs)\n",
            "\n"
          ],
          "name": "stderr"
        }
      ]
    },
    {
      "cell_type": "markdown",
      "metadata": {
        "id": "A7MdZxYVRn2h"
      },
      "source": [
        "### Часть вторая: добавим нейронных сетей\n",
        "#### Реализуйте нейронную сеть для метода DQN на доске для крестиков-ноликов. Не буду ограничивать фантазию, но кажется, что свёртки 3х3 здесь должны неплохо работать (в том числе обобщаться на доски размера побольше).\n",
        "##### Реализуйте DQN с нейронной сетью, обучите стратегии крестиков и ноликов. Замечание: скорее всего, experience replay потребуется сразу же.\n",
        "##### Реализуйте Double DQN и/или Dueling DQN.\n"
      ]
    },
    {
      "cell_type": "markdown",
      "metadata": {
        "id": "oS2TasWR8s7U"
      },
      "source": [
        "реализуем DoubleDQN, он проще)"
      ]
    },
    {
      "cell_type": "code",
      "metadata": {
        "id": "lzf4ku_2VweL"
      },
      "source": [
        "class ReplayMemory():\n",
        "    def __init__(self, capacity):\n",
        "        self.capacity = capacity\n",
        "        self.memory = []\n",
        "        self.position = 0\n",
        "\n",
        "    def store(self, exptuple):\n",
        "        if len(self.memory) < self.capacity:\n",
        "            self.memory.append(None)\n",
        "        self.memory[self.position] = exptuple\n",
        "        self.position = (self.position + 1) % self.capacity\n",
        "       \n",
        "    def sample(self, batch_size):\n",
        "        return random.sample(self.memory, batch_size)\n",
        "    \n",
        "    def __len__(self):\n",
        "        return len(self.memory)"
      ],
      "execution_count": null,
      "outputs": []
    },
    {
      "cell_type": "code",
      "metadata": {
        "id": "cCYa65sdV02P"
      },
      "source": [
        "class Network(nn.Module):\n",
        "    def __init__(self, n_rows, n_cols, layer_size=256):\n",
        "        nn.Module.__init__(self)\n",
        "        self.l1 = nn.Linear(n_rows * n_cols, layer_size)\n",
        "        self.l2 = nn.Linear(layer_size, n_rows * n_cols)\n",
        "\n",
        "    def forward(self, x):\n",
        "        x = F.relu(self.l1(x))\n",
        "        x = self.l2(x)\n",
        "        return x"
      ],
      "execution_count": null,
      "outputs": []
    },
    {
      "cell_type": "code",
      "metadata": {
        "id": "H_f8fcjYV3RV"
      },
      "source": [
        "import random as rand\n",
        "\n",
        "class TickTackDQN():\n",
        "    def __init__(self, n_rows, n_cols, n_win):\n",
        "        self.env = TicTacToe(n_rows, n_cols, n_win)\n",
        "        \n",
        "        self.modelA = Network(n_rows, n_cols)\n",
        "        self.modelB = Network(n_rows, n_cols)\n",
        "        self.optimizerA = optim.Adam(self.modelA.parameters(), 0.001)\n",
        "        self.optimizerB = optim.Adam(self.modelB.parameters(), 0.001)\n",
        "        self.model_state = rand.randrange(2)\n",
        "\n",
        "        self.memory = ReplayMemory(10000)\n",
        "        self.steps_done = 0\n",
        "        self.episode_durations = []\n",
        "        self.n_rows = n_rows\n",
        "        self.n_cols = n_cols\n",
        "        self.n_win = n_win\n",
        "        \n",
        "        self.gamma = 0.8\n",
        "        self.batch_size = 64\n",
        "        \n",
        "        self.eps_init, self.eps_final, self.eps_decay = 0.9, 0.05, 200\n",
        "        self.num_step = 0\n",
        "\n",
        "    def get_active_model(self):\n",
        "        return (self.modelA, self.modelB) if self.model_state == 0 else (self.modelB, self.modelA)\n",
        "\n",
        "    def get_active_optimizer(self):\n",
        "        return self.optimizerA if self.model_state == 0 else self.optimizerB\n",
        "\n",
        "    def select_greedy_action(self, state):\n",
        "        model, _ = self.get_active_model()\n",
        "        return model(state).data.max(1)[1].view(1, 1)\n",
        "\n",
        "    def select_action(self, state, actions):\n",
        "        sample = random.random()\n",
        "        self.num_step += 1\n",
        "        eps_threshold = self.eps_final + (self.eps_init - self.eps_final) * math.exp(-1. * self.num_step / self.eps_decay)\n",
        "        if sample > eps_threshold:\n",
        "            return self.select_greedy_action(state)\n",
        "        else:\n",
        "            action_num = random.randrange(len(actions))\n",
        "            action_code = actions[action_num][0] * self.n_cols + actions[action_num][1]  \n",
        "            return torch.tensor([[action_code]], dtype=torch.int64)\n",
        "\n",
        "        \n",
        "    def run_episode(self, e=0, do_learning=True, greedy=False, render=False, debug = False):\n",
        "        self.env.reset()    \n",
        "        if debug: print(\"New Game\")\n",
        "        done = False\n",
        "        \n",
        "        while not done:\n",
        "            state, actions = self.env.getVec(), self.env.getEmptySpaces()\n",
        "            state_tensor = torch.tensor([state], dtype=torch.float32)\n",
        "            if debug: print(\"state_tensor\", state_tensor)\n",
        "            \n",
        "            # делаем новую модель акттивной\n",
        "            self.model_state = rand.randrange(2)\n",
        "            \n",
        "            with torch.no_grad():\n",
        "                if greedy:\n",
        "                    action = self.select_greedy_action(state_tensor)\n",
        "                else:\n",
        "                    action = self.select_action(state_tensor, actions)\n",
        "\n",
        "            if debug: print(\"state\", state)\n",
        "            if debug: print(\"action\", action.item())\n",
        "            # делаем свой ход\n",
        "            rewardWhite, rewardBlack = 0,0\n",
        "            move = [(int)(action.item()/self.n_cols), action.item()%self.n_cols]\n",
        "            if debug: print(\"move\", move)\n",
        "            observation, rewardWhite, done, _ = self.env.step(move)\n",
        "            # делаем случайный ход соперника\n",
        "            if not done:\n",
        "                actions_next = self.env.getEmptySpaces()\n",
        "                opp_move = np.random.randint(len(actions_next))\n",
        "                observation, rewardBlack, done, _ = self.env.step(actions_next[opp_move])\n",
        "\n",
        "            next_state = self.env.getVec()\n",
        "            reward = rewardBlack + rewardWhite\n",
        "\n",
        "            if debug: print(\"next_state\", self.env.getVec(), rewardWhite + rewardBlack, done, strategy.get_state(next_state))\n",
        "            if debug: print(\"old value\", state, reward, action)            \n",
        "            if debug: print(\"new value\", next_state)\n",
        "            \n",
        "            next_state_tensor = torch.tensor([next_state], dtype=torch.float32)\n",
        "            action_tensor = torch.tensor([[action]], dtype=torch.int64)   \n",
        "            transition = (state_tensor, action_tensor, next_state_tensor, torch.tensor([reward], dtype=torch.float32))\n",
        "            self.memory.store(transition)\n",
        "\n",
        "            if do_learning:\n",
        "                self.learn()\n",
        "\n",
        "            state = next_state       \n",
        "\n",
        "    def learn(self):\n",
        "        #print(\"Learn\")\n",
        "        if len(self.memory) < self.batch_size:\n",
        "            return\n",
        "\n",
        "        # берём мини-батч из памяти\n",
        "        transitions = self.memory.sample(self.batch_size)\n",
        "        batch_state, batch_action, batch_next_state, batch_reward = zip(*transitions)\n",
        "        \n",
        "        batch_state = Variable(torch.cat(batch_state))\n",
        "        batch_action = Variable(torch.cat(batch_action))\n",
        "        batch_reward = Variable(torch.cat(batch_reward))\n",
        "        batch_next_state = Variable(torch.cat(batch_next_state))\n",
        "\n",
        "        # считаем значения функции Q\n",
        "        model_act, model_back = self.get_active_model()\n",
        "\n",
        "        Q = model_act(batch_state).gather(1, batch_action).reshape([self.batch_size])\n",
        "       \n",
        "        # оцениваем ожидаемые значения после этого действия\n",
        "        Qmax = model_back(batch_next_state).detach().max(1)[0]\n",
        "        Qnext = batch_reward + (self.gamma * Qmax)\n",
        "        #print(\"Qnext\", Qnext)\n",
        "        \n",
        "        # и хотим, чтобы Q было похоже на Qnext -- это и есть суть Q-обучения\n",
        "        loss = F.smooth_l1_loss(Q, Qnext)\n",
        "\n",
        "        optimizer = self.get_active_optimizer()\n",
        "        optimizer.zero_grad()\n",
        "        loss.backward()\n",
        "        optimizer.step()\n"
      ],
      "execution_count": null,
      "outputs": []
    },
    {
      "cell_type": "code",
      "metadata": {
        "colab": {
          "base_uri": "https://localhost:8080/"
        },
        "id": "3xO_lCp8empU",
        "outputId": "fa3cf3c7-f4bd-4ba1-8ecf-f90262d12415"
      },
      "source": [
        "import tqdm\n",
        "\n",
        "pg = TickTackDQN(3,3,3)\n",
        "\n",
        "n_iter = 10000\n",
        "print(f\"%s\\tStarting training for {n_iter} episodes...{datetime.now().time()}\")\n",
        "for e in tqdm.tqdm(range(10000)):\n",
        "    pg.run_episode(e, debug = False)"
      ],
      "execution_count": null,
      "outputs": [
        {
          "output_type": "stream",
          "text": [
            "  0%|          | 30/10000 [00:00<00:33, 295.79it/s]"
          ],
          "name": "stderr"
        },
        {
          "output_type": "stream",
          "text": [
            "%s\tStarting training for 10000 episodes...20:01:21.132162\n"
          ],
          "name": "stdout"
        },
        {
          "output_type": "stream",
          "text": [
            "100%|██████████| 10000/10000 [01:13<00:00, 135.36it/s]\n"
          ],
          "name": "stderr"
        }
      ]
    },
    {
      "cell_type": "code",
      "metadata": {
        "colab": {
          "base_uri": "https://localhost:8080/"
        },
        "id": "zCclNpIoIe34",
        "outputId": "42ed463a-dfde-4821-bbe8-9b57da3d8ecd"
      },
      "source": [
        "state = torch.tensor([1,-1,0,0,0,0,0,0,0], dtype=torch.float32)\n",
        "\n",
        "print(pg.modelA(state))\n",
        "\n",
        "# сделаем укороченную версию получения лучшего хода\n",
        "\n",
        "def get_best_move(model, state, n_cols):\n",
        "  model.eval()\n",
        "  state = torch.tensor(state, dtype=torch.float32)\n",
        "  index = torch.argmax(model(state).data)\n",
        "  move = [(int)(index.item()/n_cols), index.item()%n_cols]\n",
        "  return move\n",
        "\n",
        "get_best_move(pg.modelA, [0,0,0,0,0,0,0,0,0],3)"
      ],
      "execution_count": null,
      "outputs": [
        {
          "output_type": "stream",
          "text": [
            "tensor([ -9.5783, -10.4937,  -1.5892,  -1.4042,   0.4535,  -1.2763,   0.3544,\n",
            "         -1.7668,   0.8541], grad_fn=<AddBackward0>)\n"
          ],
          "name": "stdout"
        },
        {
          "output_type": "execute_result",
          "data": {
            "text/plain": [
              "[1, 1]"
            ]
          },
          "metadata": {
            "tags": []
          },
          "execution_count": 74
        }
      ]
    },
    {
      "cell_type": "code",
      "metadata": {
        "colab": {
          "base_uri": "https://localhost:8080/"
        },
        "id": "YaDfEDs-MOxF",
        "outputId": "537526ab-fcb0-46d8-e1a8-5f09e53e4cc1"
      },
      "source": [
        "import copy\n",
        "\n",
        "def championship_match(env, model, n_cols, n_iter):\n",
        "    wins = 0\n",
        "    loses = 0\n",
        "    draws = 0\n",
        "    for _ in range(n_iter):\n",
        "        env_copy = copy.deepcopy(env)  \n",
        "        done = False\n",
        "        while not done:\n",
        "            state = env_copy.getVec()\n",
        "            move = get_best_move(model, state, n_cols)\n",
        "            observation, reward, done, _ = env_copy.step(move)  \n",
        "            if done: break          \n",
        "            actions = env_copy.getEmptySpaces()\n",
        "            move = np.random.randint(len(actions))\n",
        "            observation, reward, done, _ = env_copy.step(actions[move])\n",
        "        \n",
        "        if reward == 1:\n",
        "          wins +=1\n",
        "        elif reward == -1:\n",
        "          loses += 1\n",
        "        else:\n",
        "          draws +=1\n",
        "    #print(\"simul_game\", env.getVec(), wins, draws, loses)\n",
        "    return wins, draws, loses\n",
        "\n",
        "\n",
        "env = TicTacToe(n_rows=3, n_cols=3, n_win=3)\n",
        "championship_match(env, pg.modelA, 3, 1000)"
      ],
      "execution_count": null,
      "outputs": [
        {
          "output_type": "execute_result",
          "data": {
            "text/plain": [
              "(963, 3, 34)"
            ]
          },
          "metadata": {
            "tags": []
          },
          "execution_count": 76
        }
      ]
    },
    {
      "cell_type": "markdown",
      "metadata": {
        "id": "ix7jRax1S3Yq"
      },
      "source": [
        "+965 =1 -34 что явно лучше Q-learning, сделаем то же для 4 на 4 и 5 на 5"
      ]
    },
    {
      "cell_type": "code",
      "metadata": {
        "colab": {
          "base_uri": "https://localhost:8080/"
        },
        "id": "OGfw5FWTTIyA",
        "outputId": "53d2a01f-7448-4b55-a07e-e53b1c2ea1a5"
      },
      "source": [
        "pg = TickTackDQN(4,4,3)\n",
        "\n",
        "n_iter = 10000\n",
        "print(f\"%s\\tStarting training for {n_iter} episodes...{datetime.now().time()}\")\n",
        "for e in tqdm.tqdm(range(10000)):\n",
        "    pg.run_episode(e, debug = False)"
      ],
      "execution_count": null,
      "outputs": [
        {
          "output_type": "stream",
          "text": [
            "  0%|          | 21/10000 [00:00<00:53, 187.95it/s]"
          ],
          "name": "stderr"
        },
        {
          "output_type": "stream",
          "text": [
            "%s\tStarting training for 10000 episodes...20:45:45.152880\n"
          ],
          "name": "stdout"
        },
        {
          "output_type": "stream",
          "text": [
            "100%|██████████| 10000/10000 [01:22<00:00, 121.09it/s]\n"
          ],
          "name": "stderr"
        }
      ]
    },
    {
      "cell_type": "code",
      "metadata": {
        "colab": {
          "base_uri": "https://localhost:8080/"
        },
        "id": "-lpJC54YTu-L",
        "outputId": "2067416c-2ae1-488f-9e25-a67d026a22c2"
      },
      "source": [
        "get_best_move(pg.modelA, np.zeros(16),4)"
      ],
      "execution_count": null,
      "outputs": [
        {
          "output_type": "execute_result",
          "data": {
            "text/plain": [
              "[2, 1]"
            ]
          },
          "metadata": {
            "tags": []
          },
          "execution_count": 80
        }
      ]
    },
    {
      "cell_type": "code",
      "metadata": {
        "colab": {
          "base_uri": "https://localhost:8080/"
        },
        "id": "5sl3-wtDTkpC",
        "outputId": "6196ad30-d18f-4cf5-cb0c-180730c974db"
      },
      "source": [
        "env = TicTacToe(4, 4, 3)\n",
        "championship_match(env, pg.modelA, 4, 1000)"
      ],
      "execution_count": null,
      "outputs": [
        {
          "output_type": "execute_result",
          "data": {
            "text/plain": [
              "(973, 2, 25)"
            ]
          },
          "metadata": {
            "tags": []
          },
          "execution_count": 81
        }
      ]
    },
    {
      "cell_type": "markdown",
      "metadata": {
        "id": "PUsIe9d9zuF1"
      },
      "source": [
        "+973 =2 -25"
      ]
    },
    {
      "cell_type": "code",
      "metadata": {
        "colab": {
          "base_uri": "https://localhost:8080/"
        },
        "id": "8FVkktVDT5DD",
        "outputId": "9d85ab76-b0ee-48b8-bf05-e9561512ab57"
      },
      "source": [
        "pg = TickTackDQN(5,5,3)\n",
        "\n",
        "n_iter = 10000\n",
        "print(f\"%s\\tStarting training for {n_iter} episodes...{datetime.now().time()}\")\n",
        "for e in tqdm.tqdm(range(10000)):\n",
        "    pg.run_episode(e, debug = False)"
      ],
      "execution_count": null,
      "outputs": [
        {
          "output_type": "stream",
          "text": [
            "  0%|          | 17/10000 [00:00<01:02, 159.26it/s]"
          ],
          "name": "stderr"
        },
        {
          "output_type": "stream",
          "text": [
            "%s\tStarting training for 10000 episodes...20:48:32.634142\n"
          ],
          "name": "stdout"
        },
        {
          "output_type": "stream",
          "text": [
            "100%|██████████| 10000/10000 [01:31<00:00, 109.33it/s]\n"
          ],
          "name": "stderr"
        }
      ]
    },
    {
      "cell_type": "code",
      "metadata": {
        "colab": {
          "base_uri": "https://localhost:8080/"
        },
        "id": "8OJdZGiMUBec",
        "outputId": "997031a7-ff7a-47d4-adf0-af0428e472ff"
      },
      "source": [
        "env = TicTacToe(5, 5, 3)\n",
        "championship_match(env, pg.modelA, 5, 1000)"
      ],
      "execution_count": null,
      "outputs": [
        {
          "output_type": "execute_result",
          "data": {
            "text/plain": [
              "(994, 2, 4)"
            ]
          },
          "metadata": {
            "tags": []
          },
          "execution_count": 83
        }
      ]
    },
    {
      "cell_type": "markdown",
      "metadata": {
        "id": "-4cDFfaGz41O"
      },
      "source": [
        "+994 -2 -4"
      ]
    },
    {
      "cell_type": "markdown",
      "metadata": {
        "id": "mjRg7VDvUV5e"
      },
      "source": [
        "5, 5, 3 практически решена"
      ]
    },
    {
      "cell_type": "markdown",
      "metadata": {
        "id": "nI9-1ZKMf7fd"
      },
      "source": [
        "## Часть третья\n",
        "\n",
        "###### расширим и углубим поиск Крестики-нолики -- это, конечно, далеко не го, и обычный альфа-бета поиск с отсечением здесь наверняка может работать идеально вплоть до довольно больших досок. \n",
        "\n",
        "###### Однако мы всё-таки для этого учебного задания будем реализовывать более практически релевантный метод MCTS -- заодно фактически получится и упражнение на многоруких бандитов. \n",
        "\n",
        "###### Реализуйте rollouts со случайной стратегией и \n",
        "(опционально) rollouts с неслучайной, но простой стратегией (например, основанной на дополнении нескольких паттернов или на Q-функции, которая у вас получилась в первом пункте). \n",
        "\n",
        "###### Реализуйте MCTS-поиск с этими rollouts для крестиков-ноликов на досках разного размера, сравните полученные стратегии между собой и со стратегиями, обученными в первых двух частях."
      ]
    },
    {
      "cell_type": "markdown",
      "metadata": {
        "id": "JVCoiS7It_Rh"
      },
      "source": [
        "реализуем rollout для случайной стратегии и сыграем заодно 1000 случайных игр"
      ]
    },
    {
      "cell_type": "code",
      "metadata": {
        "colab": {
          "base_uri": "https://localhost:8080/"
        },
        "id": "VRhzx6vCgBif",
        "outputId": "61b319ec-379e-488e-df23-a40f00717b9f"
      },
      "source": [
        "import copy\n",
        "\n",
        "def random_rollout(env, n_iter):\n",
        "    wins, draws, loses = 0, 0, 0\n",
        "    for _ in range(n_iter):\n",
        "        env_copy = copy.deepcopy(env)  \n",
        "        done = False\n",
        "        while not done:\n",
        "            actions = env_copy.getEmptySpaces()\n",
        "            move = np.random.randint(len(actions))\n",
        "            observation, reward, done, _ = env_copy.step(actions[move])\n",
        "        \n",
        "        if reward == 1:\n",
        "          wins +=1\n",
        "        elif reward == -1:\n",
        "          loses += 1\n",
        "        else:\n",
        "          draws +=1\n",
        "    return wins, draws, loses\n",
        "\n",
        "\n",
        "env_mc = TicTacToe(n_rows=3, n_cols=3, n_win=3)\n",
        "random_rollout(env_mc, 1000)"
      ],
      "execution_count": 10,
      "outputs": [
        {
          "output_type": "execute_result",
          "data": {
            "text/plain": [
              "(618, 119, 263)"
            ]
          },
          "metadata": {
            "tags": []
          },
          "execution_count": 10
        }
      ]
    },
    {
      "cell_type": "code",
      "metadata": {
        "id": "YRJbw-2fvzbB"
      },
      "source": [
        "# map reward to wins draws loses\n",
        "def map_reward(reward):\n",
        "  if reward==1:\n",
        "    return (1, 0, 0)\n",
        "  elif reward == 0:\n",
        "    return (0, 1, 0)\n",
        "  else:\n",
        "    return (0,0,1)"
      ],
      "execution_count": 11,
      "outputs": []
    },
    {
      "cell_type": "markdown",
      "metadata": {
        "id": "-LMrNdajhacb"
      },
      "source": [
        "Напишем Монте-Карло со случ стратегией"
      ]
    },
    {
      "cell_type": "code",
      "metadata": {
        "id": "E5tOa6SRgNhf",
        "colab": {
          "base_uri": "https://localhost:8080/"
        },
        "outputId": "341671cf-ae2f-408f-8e29-f89716c45856"
      },
      "source": [
        "import math\n",
        "import tqdm\n",
        "\n",
        "# здесь записываем все дерево перебора\n",
        "def build_tree(env_mc, games_iter):\n",
        "  tree = {}\n",
        "  # получим хэш текущей позиции\n",
        "  initial_position = env_mc.getVec()\n",
        "  # ключ  - позиция\n",
        "  tree[(initial_position, None)] = {}\n",
        "  tree[(initial_position, None)]['stats'] = [0,0,0] # wins draws loses\n",
        "\n",
        "  for _ in tqdm.tqdm(range(games_iter)):\n",
        "    #print(\"next_iter\")\n",
        "    # дерево для обновления путей в корень\n",
        "    path_to_root = []\n",
        "    # каждый раз меняем т.к. меняется очередь хода.\n",
        "    count_wins = True\n",
        "    # для каждого узла все дети должны быть исследованы\n",
        "    done = False\n",
        "    env_mc_copy = copy.deepcopy(env_mc)\n",
        "    actions = env_mc_copy.getEmptySpaces()\n",
        "    \n",
        "    current_position = initial_position\n",
        "    last_action = None\n",
        "\n",
        "    while len(tree[(current_position, last_action)].keys()) > 1 and done == False: # вершина исследована\n",
        "      # выберем по статистике в какой из листьев идти дальше\n",
        "      best_action = None\n",
        "      best_stat = None\n",
        "      for action in actions:\n",
        "        action = tuple(action)\n",
        "        # выбираем action по модели конечного автомата\n",
        "        N = sum(tree[(current_position, last_action)]['stats'])\n",
        "        ni = sum(tree[(current_position, last_action)][action])\n",
        "        \n",
        "        if count_wins:\n",
        "          wr = tree[(current_position, last_action)][action][0] + tree[(current_position, last_action)][action][1]/2\n",
        "        else:\n",
        "          wr = tree[(current_position, last_action)][action][2] + tree[(current_position, last_action)][action][1]/2\n",
        "        wr/= sum(tree[(current_position, last_action)][action])\n",
        "\n",
        "        stat = wr + math.sqrt(2*N/ni)\n",
        "        if best_stat is None or best_stat < stat:\n",
        "          best_action = action\n",
        "          best_stat = stat\n",
        "      \n",
        "      # делаем шаг в сторону best_acton\n",
        "      path_to_root.append(((current_position, last_action), best_action))\n",
        "      _ , reward, done, _ = env_mc_copy.step(best_action)  \n",
        "      current_position, last_action = env_mc_copy.getVec(), best_action\n",
        "      count_wins = not count_wins\n",
        "      actions = env_mc_copy.getEmptySpaces()\n",
        "    \n",
        "    # дошли до места где надо генерировать новые пути\n",
        "    if done:\n",
        "        pass_simul_upward(path_to_root, map_reward(reward), tree)\n",
        "    else:\n",
        "      for action in actions:\n",
        "        action = tuple(action)\n",
        "        if action not in tree[(current_position, last_action)]:\n",
        "          env_mc_copy2 = copy.deepcopy(env_mc_copy)  \n",
        "          _ , reward, done, _ = env_mc_copy2.step(action)\n",
        "          new_state = env_mc_copy2.getVec()\n",
        "          statistics = map_reward(reward) if done else random_rollout(env_mc_copy2, 1) \n",
        "          tree[(new_state, action)] = {}\n",
        "          tree[(new_state, action)]['stats'] = statistics\n",
        "\n",
        "          tree[(current_position, last_action)]['stats'] = [sum(x) for x in zip(tree[(current_position, last_action)]['stats'],statistics)]\n",
        "          tree[(current_position, last_action)][action] = statistics\n",
        "          pass_simul_upward(path_to_root, statistics, tree) \n",
        "  return tree\n",
        "\n",
        "# проталкиваем симулированную игру наверх\n",
        "def pass_simul_upward(path_to_root, results, tree):\n",
        "  wins, draws, loses = results\n",
        "  for pos in path_to_root:\n",
        "    tree[pos[0]]['stats'] = [sum(x) for x in zip(tree[pos[0]]['stats'],[wins, draws, loses])]\n",
        "    tree[pos[0]][pos[1]] = [sum(x) for x in zip(tree[pos[0]][pos[1]],[wins, draws, loses])]\n",
        "\n",
        "env_mc = TicTacToe(n_rows=3, n_cols=3, n_win=3)\n",
        "games_iter = 100000\n",
        "tree = build_tree(env_mc, games_iter)"
      ],
      "execution_count": 16,
      "outputs": [
        {
          "output_type": "stream",
          "text": [
            "100%|██████████| 100000/100000 [01:44<00:00, 957.36it/s]\n"
          ],
          "name": "stderr"
        }
      ]
    },
    {
      "cell_type": "markdown",
      "metadata": {
        "id": "OwO-HEAEU0_t"
      },
      "source": [
        ""
      ]
    },
    {
      "cell_type": "code",
      "metadata": {
        "id": "fH7njb6USMvK"
      },
      "source": [
        "def get_Q_from_mc_tree(tree):  \n",
        "  # посчитаем симуляции агрегированные по позиции и из них сконструируем лучшие ходы \n",
        "  pos_tree = {}\n",
        "  for key in tree.keys(): \n",
        "    if key not in pos_tree:\n",
        "      for inner_key in tree[key]:\n",
        "        if inner_key != 'stats':\n",
        "          if key[0] not in pos_tree:\n",
        "            pos_tree[key[0]] = {}\n",
        "          if inner_key not in pos_tree[key[0]]:\n",
        "            pos_tree[key[0]][inner_key] = np.zeros(3)\n",
        "          pos_tree[key[0]][inner_key] += np.array(tree[key][inner_key])\n",
        "  return pos_tree\n",
        "\n",
        "pos_tree = get_Q_from_mc_tree(tree)"
      ],
      "execution_count": 17,
      "outputs": []
    },
    {
      "cell_type": "code",
      "metadata": {
        "id": "L8XfPe_9bgrt",
        "outputId": "7fb41769-ba43-4038-c948-d2f5b19304e6",
        "colab": {
          "base_uri": "https://localhost:8080/"
        }
      },
      "source": [
        "# получаем лучших ход в позиции\n",
        "def get_tree_best_move(pos_tree, position):\n",
        "  best_move = None\n",
        "  best_eval = -1\n",
        "  if position not in pos_tree: return None\n",
        "  for key in pos_tree[position]:\n",
        "    eval = (pos_tree[position][key][0] + pos_tree[position][key][1]/2)/np.sum(pos_tree[position][key])\n",
        "    if eval > best_eval:\n",
        "      best_eval = eval\n",
        "      best_move = key\n",
        "  return list(best_move)\n",
        "\n",
        "\n",
        "print(get_tree_best_move(pos_tree, (0,0,0,0,0,0,0,0,0)))"
      ],
      "execution_count": 18,
      "outputs": [
        {
          "output_type": "stream",
          "text": [
            "[1, 1]\n"
          ],
          "name": "stdout"
        }
      ]
    },
    {
      "cell_type": "markdown",
      "metadata": {
        "id": "WjSOQ9dofaBJ"
      },
      "source": [
        "проведем чемпионат"
      ]
    },
    {
      "cell_type": "code",
      "metadata": {
        "colab": {
          "base_uri": "https://localhost:8080/"
        },
        "id": "gGeeB3GNfh2H",
        "outputId": "35f12227-252e-4f48-f33d-5fe689e155bb"
      },
      "source": [
        "import copy\n",
        "\n",
        "def championship_match(env, pos_tree, n_iter):\n",
        "    wins = 0\n",
        "    loses = 0\n",
        "    draws = 0\n",
        "    for _ in range(n_iter):\n",
        "        env_copy = copy.deepcopy(env)  \n",
        "        done = False\n",
        "        while not done:\n",
        "            state = env_copy.getVec()\n",
        "            move = get_tree_best_move(pos_tree, state)\n",
        "            \n",
        "            # если позиция ранее не встречалась - играем случайно\n",
        "            if move is None:\n",
        "              actions = env_copy.getEmptySpaces()\n",
        "              move_idx = np.random.randint(len(actions))\n",
        "              move = actions[move_idx]\n",
        "            \n",
        "            observation, reward, done, _ = env_copy.step(move)  \n",
        "            if done: break          \n",
        "            actions = env_copy.getEmptySpaces()\n",
        "            move = np.random.randint(len(actions))\n",
        "            observation, reward, done, _ = env_copy.step(actions[move])\n",
        "        \n",
        "        if reward == 1:\n",
        "          wins +=1\n",
        "        elif reward == -1:\n",
        "          loses += 1\n",
        "        else:\n",
        "          draws +=1\n",
        "    return wins, draws, loses\n",
        "\n",
        "#  Посчитаем все заново чтобы продемонстрировать цикл\n",
        "games_iter = 100000\n",
        "env_mc = TicTacToe(n_rows=3, n_cols=3, n_win=3)\n",
        "tree = build_tree(env_mc, games_iter)\n",
        "pos_tree = get_Q_from_mc_tree(tree)\n",
        "print(championship_match(env_mc, pos_tree, 1000))"
      ],
      "execution_count": 20,
      "outputs": [
        {
          "output_type": "stream",
          "text": [
            "100%|██████████| 100000/100000 [01:47<00:00, 933.94it/s]\n"
          ],
          "name": "stderr"
        },
        {
          "output_type": "stream",
          "text": [
            "(987, 13, 0)\n"
          ],
          "name": "stdout"
        }
      ]
    },
    {
      "cell_type": "markdown",
      "metadata": {
        "id": "oyoztZXog0Qc"
      },
      "source": [
        "+987 =13 - 0 даже лучше нейросетей. хотя подозреваю нейросети лучше будут в играх где больше вариантов ходов за счет обощающей способности, сделаем то же для 4 на 4 и 5 на 5. "
      ]
    },
    {
      "cell_type": "code",
      "metadata": {
        "id": "WeMAsF-B9F3c",
        "outputId": "2b873f4e-bee1-4c2c-9b19-5beb3610674d",
        "colab": {
          "base_uri": "https://localhost:8080/"
        }
      },
      "source": [
        "games_iter = 50000\n",
        "env_mc = TicTacToe(n_rows=5, n_cols=5, n_win=3)\n",
        "tree = build_tree(env_mc, games_iter)\n",
        "pos_tree = get_Q_from_mc_tree(tree)\n",
        "print(championship_match(env_mc, pos_tree, 1000))"
      ],
      "execution_count": 21,
      "outputs": [
        {
          "output_type": "stream",
          "text": [
            "100%|██████████| 50000/50000 [25:36<00:00, 32.55it/s]\n"
          ],
          "name": "stderr"
        },
        {
          "output_type": "stream",
          "text": [
            "(771, 0, 229)\n"
          ],
          "name": "stdout"
        }
      ]
    },
    {
      "cell_type": "markdown",
      "metadata": {
        "id": "NXdZ_3uGpr9_"
      },
      "source": [
        "5 на 5 уже сильно хуже +771 -229 видимо потому что было слишком много незнакомых позиций против случайной стратегии"
      ]
    },
    {
      "cell_type": "code",
      "metadata": {
        "colab": {
          "base_uri": "https://localhost:8080/"
        },
        "id": "s_jo1jXRpo54",
        "outputId": "899be0ef-3ca3-4466-898d-8cad491a4397"
      },
      "source": [
        "games_iter = 50000\n",
        "env_mc = TicTacToe(n_rows=4, n_cols=4, n_win=3)\n",
        "tree = build_tree(env_mc, games_iter)\n",
        "pos_tree = get_Q_from_mc_tree(tree)\n",
        "print(championship_match(env_mc, pos_tree, 1000))"
      ],
      "execution_count": 22,
      "outputs": [
        {
          "output_type": "stream",
          "text": [
            "100%|██████████| 50000/50000 [08:10<00:00, 101.99it/s]\n"
          ],
          "name": "stderr"
        },
        {
          "output_type": "stream",
          "text": [
            "(958, 0, 42)\n"
          ],
          "name": "stdout"
        }
      ]
    },
    {
      "cell_type": "markdown",
      "metadata": {
        "id": "EqNZDaw4vmUu"
      },
      "source": [
        "на 4 на 4 +958 - 42"
      ]
    },
    {
      "cell_type": "markdown",
      "metadata": {
        "id": "LnIRBzcxqA5I"
      },
      "source": [
        "Вообще возможно динамический расчет позиций с помощью мс подразумевался, но крестики нолики 5 на 5 слишком неглубокая игра и как раз получилась симуляция оценки начальной позиции где мы не можем просчитать игру до конца и как бы делаем rollouts там где не досчитали по ходу игры. И делать 1000 игр, по ходу каждой запускать расчет  каждого хода итераций на 100 может быть долго и глубины особо не добавит\n"
      ]
    }
  ]
}